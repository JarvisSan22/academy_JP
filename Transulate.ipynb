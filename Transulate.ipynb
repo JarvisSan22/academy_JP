{
 "cells": [
  {
   "cell_type": "markdown",
   "metadata": {},
    "# Python code to transulate MD files automaticly with DEEPL"
   ]
  },
  {
   "cell_type": "code",
   "execution_count": 20,
   "metadata": {},
   "outputs": [
    {
     "name": "stdout",
     "output_type": "stream",
     "text": [
      "Collecting requests\n",
      "  Downloading requests-2.31.0-py3-none-any.whl.metadata (4.6 kB)\n",
      "Collecting charset-normalizer<4,>=2 (from requests)\n",
      "  Downloading charset_normalizer-3.3.2-cp39-cp39-win_amd64.whl.metadata (34 kB)\n",
      "Collecting idna<4,>=2.5 (from requests)\n",
      "  Using cached idna-3.7-py3-none-any.whl.metadata (9.9 kB)\n",
      "Collecting urllib3<3,>=1.21.1 (from requests)\n",
      "  Using cached urllib3-2.2.1-py3-none-any.whl.metadata (6.4 kB)\n",
      "Collecting certifi>=2017.4.17 (from requests)\n",
      "  Downloading certifi-2024.2.2-py3-none-any.whl.metadata (2.2 kB)\n",
      "Downloading requests-2.31.0-py3-none-any.whl (62 kB)\n",
      "   ---------------------------------------- 0.0/62.6 kB ? eta -:--:--\n",
      "   ---------------------------------------  61.4/62.6 kB 1.7 MB/s eta 0:00:01\n",
      "   ---------------------------------------- 62.6/62.6 kB 1.1 MB/s eta 0:00:00\n",
      "Downloading certifi-2024.2.2-py3-none-any.whl (163 kB)\n",
      "   ---------------------------------------- 0.0/163.8 kB ? eta -:--:--\n",
      "   ------------------------------ --------- 122.9/163.8 kB 7.0 MB/s eta 0:00:01\n",
      "   ---------------------------------------- 163.8/163.8 kB 2.5 MB/s eta 0:00:00\n",
      "Downloading charset_normalizer-3.3.2-cp39-cp39-win_amd64.whl (100 kB)\n",
      "   ---------------------------------------- 0.0/100.4 kB ? eta -:--:--\n",
      "   ---------------------------------------- 100.4/100.4 kB 2.8 MB/s eta 0:00:00\n",
      "Using cached idna-3.7-py3-none-any.whl (66 kB)\n",
      "Using cached urllib3-2.2.1-py3-none-any.whl (121 kB)\n",
      "Installing collected packages: urllib3, idna, charset-normalizer, certifi, requests\n",
      "Successfully installed certifi-2024.2.2 charset-normalizer-3.3.2 idna-3.7 requests-2.31.0 urllib3-2.2.1\n",
      "Note: you may need to restart the kernel to use updated packages.\n"
     ]
    }
   ],
   "source": [
    "pip install requests"
   ]
  },
  {
   "cell_type": "code",
   "execution_count": 73,
   "metadata": {},
   "outputs": [],
   "source": [
    "import requests\n",
    "import os \n",
    "import unicodedata\n",
    "\n",
    "API_KEY=\"27b13bc8-a639-95b0-74f0-ea97eeda58a5:fx\"\n",
    "DEEPL_URL=\"https://api-free.deepl.com/v2/translate\"\n",
    "def DeepL(text,target_lang=\"JA\",API_KEY=API_KEY):\n",
    "#parameters パラメータの指定\n",
    "  params = {\n",
    "              'auth_key' : API_KEY,\n",
    "              'text' : text,\n",
    "      \n",
    "              \"target_lang\": target_lang  # 翻訳後の言語\n",
    "          }\n",
    "  # リクエストを投げる\n",
    "  request = requests.post(DEEPL_URL, data=params) # URIは有償版, 無償版で異なるため要注意\n",
    "  result = request.json()\n",
    "  \n",
    " # print(\"DeepL Request print\")\n",
    "  #print(result)\n",
    "  if \"translations\" not in result:\n",
    "     print(\"DEEPL ERROR\")\n",
    "     print(result)\n",
    "     return \"404\"\n",
    "  return result[\"translations\"][0][\"text\"]\n"
   ]
  },
  {
   "cell_type": "code",
   "execution_count": 3,
   "metadata": {},
   "outputs": [],
   "source": [
    "import re\n",
    "import os\n",
    "\n",
    "test_file=r\"C:\\Users\\James\\OneDrive\\ドキュメント\\GitHub\\academy_JP\\docs\\intro.md\"\n",
    "\n",
    "\n",
    "    clean_content= re.sub(r'<[^>]+>', '', content)\n",
    "    "
   ]
  },
  {
   "cell_type": "code",
   "execution_count": 14,
   "metadata": {},
   "outputs": [
    {
     "data": {
      "text/plain": [
       "\":root {   --highlight: #ffe084;   --links: #29bbe3;   --hover: rgb(131, 206, 235); }    # Welcome to the Precious Plastic Academy!       ### Awesome to see you are interested in recycling plastic. We've created this collection of videos, tutorials and content to share the most crucial things we've learned over the past 7 years about transforming plastic waste into valuable products.  We will teach you about the basics of plastic - what types there are and how to identify them, collecting and separating plastic, building your own machines, business models you can adopt, how to become an important member in the Precious Plastic community, and much more.  We’ve created download kits and templates so once you’ve gone through everything, you’ll be ready to start your own recycling workspace, anywhere in the world!       ### Video Chapters  - 00:00 Introduction - 00:42 What will you learn - 01:40 Help & Feedback - 02:01 Donate - 02:30 Spread the project        ![Open Source](assets/Intro/opensource.svg)  ## But wait - why did you do this?  At Precious Plastic we want to show the world the incredible opportunities of plastic waste in order to eliminate plastic pollution, reducing the demand for new virgin plastic and closing its materials loop while creating better livelihoods for people around the world. Precious Plastic is, above all, a cultural tool to change the way society perceives plastic.  All plastic laying around you is a resource, not waste. It is a material with great potential, laying all around the world that, if processed correctly, can become something new and valuable. This resource can become a source of income or an educational tool for your community, while making sure it doesn’t enter our environment.     We have created machines, documentation, video tutorials, campaigns and a platform to empower people across the planet to start working with plastic waste locally while trying to decentralise and localise plastic recycling technologies, infrastructures and knowledge by providing open-source designs for machines, moulds and consumer products, as well as business models and tools for you to set up and run a recycling workspace.  ## Open source & License We share everything open source for anyone to use and benefit from. This means that all the knowledge, know-how, processes, methodologies and tools are available online, for free at all times. This open source philosophy is at the core of Precious Plastic and shapes most decisions within our team. We believe that collaboration is stronger than competition and that the plastic problem can only be solved collectively.  Different parts of this project are under different license conditions  - **Content:** All our content is licensed under Creative Commons Attribution - Sharealike International 4.0. You can read a summary of that [here](https://creativecommons.org/licenses/by-sa/4.0/), or check out the full [license](https://creativecommons.org/licenses/by-sa/4.0/legalcode). - **Code:** Code license for the academy site is [GPL-3.0 License](https://github.com/ONEARMY/academy/blob/master/LICENSE).  ## Support & get involved If you are in the position to help there are many ways you can  support Precious Plastic.    Are you interested to connect with the Precious Plastic community? Perhaps you want to learn more or share your own knowledge. Well you're in luck! We have created a  Discord  to discuss all the things we're doing here. Check out the Questions section in the sidebar to see where you can chat with people locally and globally.\""
      ]
     },
     "execution_count": 14,
     "metadata": {},
     "output_type": "execute_result"
    }
   ],
   "source": [
    "pieces = re.findall(r'>([^<]+)<', content)\n",
    "\n",
    "# Joining pieces to form the full text\n",
    "plain_text = ' '.join(pieces).replace('\\n', ' ').strip()\n",
    "# Further clean up to remove any residual HTML entities if they exist\n",
    "clean_text = re.sub(r'&[^;\\s]+;', '', plain_text)\n",
    "clean_text"
   ]
  },
  {
   "cell_type": "code",
   "execution_count": 26,
   "metadata": {},
   "outputs": [
    {
     "name": "stdout",
     "output_type": "stream",
     "text": [
      "DeepL Request print\n",
      "{'translations': [{'detected_source_language': 'NB', 'text': 'sidebar_label：こんにちは'}]}\n"
     ]
    },
    {
     "data": {
      "text/plain": [
       "'sidebar_label：こんにちは'"
      ]
     },
     "execution_count": 26,
     "metadata": {},
     "output_type": "execute_result"
    }
   ],
   "source": [
    "#line\n",
    "DeepL(line)"
   ]
  },
  {
   "cell_type": "code",
   "execution_count": 42,
   "metadata": {},
   "outputs": [],
   "source": [
    "test= DeepL(content.split(\"\\n\")[26])"
   ]
  },
  {
   "cell_type": "code",
   "execution_count": 45,
   "metadata": {},
   "outputs": [
    {
     "data": {
      "text/plain": [
       "'私たちは、プラスチックの種類や見分け方、プラスチックの収集と分別、自分で機械を作る方法、採用できるビジネスモデル、プレシャス・プラスチックのコミュニティで重要なメンバーになる方法など、プラスチックの基本についてお教えします。'"
      ]
     },
     "execution_count": 45,
     "metadata": {},
     "output_type": "execute_result"
    }
   ],
   "source": [
    "test['translations'][0]['text']"
   ]
  },
  {
   "cell_type": "code",
   "execution_count": 74,
   "metadata": {},
   "outputs": [],
   "source": [
    "def transulate_df(md_file,save_file):\n",
    "    with open(md_file, 'r', encoding='utf-8') as file:\n",
    "        content = file.read()\n",
    "        new_content=\"\"\n",
    "        for line in content.split(\"\\n\"):\n",
    "            #print(line)\n",
    "            no_tran_list=[\"div>\", \"img>\",\"iframe>\", \"style>\",\"![\" ,\"--\",\"<style\" \"--\" ,\"}\" ,\"id:\",\"sidebar_label: \",\"title:\", \":root\",\"/div\",]\n",
    "            if not any(value in line for value in no_tran_list):\n",
    "                if len(line)>0:\n",
    "                    line=DeepL(line,API_KEY=API_KEY)\n",
    "                    #print(line)\n",
    "                    if len(line)>0:\n",
    "                        new_content+=str(line) +\" \\n\"\n",
    "            else:\n",
    "                \n",
    "                new_content+=str(line) +\" \\n\"\n",
    "            print(line)\n",
    "\n",
    "            \n",
    "        file.close()\n",
    "    with open(save_file, 'w', encoding='utf-8') as new_file:\n",
    "        new_file.write(new_content)\n",
    "    new_file.close()\n",
    "    print(md_file)\n",
    "    print(\"jp translation complete\")\n",
    "    print(\"new file\",save_file)"
   ]
  },
  {
   "cell_type": "code",
   "execution_count": 75,
   "metadata": {},
   "outputs": [
    {
     "name": "stdout",
     "output_type": "stream",
     "text": [
      "---\n",
      "id: business\n",
      "title: Business\n",
      "sidebar_label: Intro\n",
      "---\n",
      "\n",
      "<style>\n",
      ":root {\n",
      "  --highlight: #f7b77b;\n",
      "  --hover: #f7b77b;\n",
      "}\n",
      "</style>\n",
      "\n",
      "![Business Tools](assets/Business/businesspresentation.jpg)\n",
      "\n",
      "# ビジネスツール\n",
      "\n",
      "### では、どうすればプラスチックのリサイクルで儲けることができるのか？\n",
      "\n",
      "私たちは、あなたが地域社会にインパクトを与えるだけでなく、経済的に持続可能で、長く続けていくことができるようになるための重要なツールを紹介することに興奮しています。ジョセフ（私たちのビジネス・ガイ）が、何もないところからビジネスを立ち上げるための以下の3つのツールをご紹介します！\n",
      "\n",
      "> プロヒント：最も成功したビジネスとは、顧客や聴衆に何を届けたいかに本当に集中しているビジネスである。\n",
      "\n",
      "![Business Tools](assets/Business/businessintro.svg)\n",
      "\n",
      "## ビジネス・ツールは3部構成：\n",
      "\n",
      "- <b>アクション・プラン</b>は、あなたのビジネス・モデルを計画するための、迅速で汚いビジネス・プランです。\n",
      "- <b>ワークスペース計算機</b>は、ワークスペースの財務的な実行可能性を理解するための財務予測ツールです。\n",
      "- <b>ビジネスプラン・テンプレート</b>は、すべてをまとめて、より長い形式のビジネスプランを作成する場所です！\n",
      "\n",
      "始めよう！\n",
      "\n",
      "docs/business.md\n",
      "jp translation complete\n",
      "new file business_jp.md\n"
     ]
    }
   ],
   "source": [
    "md_file=\"docs/business.md\"\n",
    "save_file=\"business_jp.md\"\n",
    "transulate_df(md_file,save_file)"
   ]
  },
  {
   "cell_type": "code",
   "execution_count": 51,
   "metadata": {},
   "outputs": [
    {
     "name": "stdout",
     "output_type": "stream",
     "text": [
      "Copied: C:\\Users\\James\\OneDrive\\ドキュメント\\GitHub\\academy_JP\\docs\\build.md to C:\\Users\\James\\OneDrive\\ドキュメント\\GitHub\\academy_JP\\docs_jp\\build.md\n",
      "Copied: C:\\Users\\James\\OneDrive\\ドキュメント\\GitHub\\academy_JP\\docs\\business.md to C:\\Users\\James\\OneDrive\\ドキュメント\\GitHub\\academy_JP\\docs_jp\\business.md\n",
      "Copied: C:\\Users\\James\\OneDrive\\ドキュメント\\GitHub\\academy_JP\\docs\\collect.md to C:\\Users\\James\\OneDrive\\ドキュメント\\GitHub\\academy_JP\\docs_jp\\collect.md\n",
      "Copied: C:\\Users\\James\\OneDrive\\ドキュメント\\GitHub\\academy_JP\\docs\\create.md to C:\\Users\\James\\OneDrive\\ドキュメント\\GitHub\\academy_JP\\docs_jp\\create.md\n",
      "Copied: C:\\Users\\James\\OneDrive\\ドキュメント\\GitHub\\academy_JP\\docs\\done.md to C:\\Users\\James\\OneDrive\\ドキュメント\\GitHub\\academy_JP\\docs_jp\\done.md\n",
      "Copied: C:\\Users\\James\\OneDrive\\ドキュメント\\GitHub\\academy_JP\\docs\\download.md to C:\\Users\\James\\OneDrive\\ドキュメント\\GitHub\\academy_JP\\docs_jp\\download.md\n",
      "Copied: C:\\Users\\James\\OneDrive\\ドキュメント\\GitHub\\academy_JP\\docs\\download_old.md to C:\\Users\\James\\OneDrive\\ドキュメント\\GitHub\\academy_JP\\docs_jp\\download_old.md\n",
      "Copied: C:\\Users\\James\\OneDrive\\ドキュメント\\GitHub\\academy_JP\\docs\\intro.md to C:\\Users\\James\\OneDrive\\ドキュメント\\GitHub\\academy_JP\\docs_jp\\intro.md\n",
      "Copied: C:\\Users\\James\\OneDrive\\ドキュメント\\GitHub\\academy_JP\\docs\\spaces.md to C:\\Users\\James\\OneDrive\\ドキュメント\\GitHub\\academy_JP\\docs_jp\\spaces.md\n",
      "Copied: C:\\Users\\James\\OneDrive\\ドキュメント\\GitHub\\academy_JP\\docs\\styles.md to C:\\Users\\James\\OneDrive\\ドキュメント\\GitHub\\academy_JP\\docs_jp\\styles.md\n",
      "Copied: C:\\Users\\James\\OneDrive\\ドキュメント\\GitHub\\academy_JP\\docs\\build\\components.md to C:\\Users\\James\\OneDrive\\ドキュメント\\GitHub\\academy_JP\\docs_jp\\build\\components.md\n",
      "Copied: C:\\Users\\James\\OneDrive\\ドキュメント\\GitHub\\academy_JP\\docs\\build\\compression.md to C:\\Users\\James\\OneDrive\\ドキュメント\\GitHub\\academy_JP\\docs_jp\\build\\compression.md\n",
      "Copied: C:\\Users\\James\\OneDrive\\ドキュメント\\GitHub\\academy_JP\\docs\\build\\extrusion.md to C:\\Users\\James\\OneDrive\\ドキュメント\\GitHub\\academy_JP\\docs_jp\\build\\extrusion.md\n",
      "Copied: C:\\Users\\James\\OneDrive\\ドキュメント\\GitHub\\academy_JP\\docs\\build\\extrusionpro.md to C:\\Users\\James\\OneDrive\\ドキュメント\\GitHub\\academy_JP\\docs_jp\\build\\extrusionpro.md\n",
      "Copied: C:\\Users\\James\\OneDrive\\ドキュメント\\GitHub\\academy_JP\\docs\\build\\extrusionprobuild.md to C:\\Users\\James\\OneDrive\\ドキュメント\\GitHub\\academy_JP\\docs_jp\\build\\extrusionprobuild.md\n",
      "Copied: C:\\Users\\James\\OneDrive\\ドキュメント\\GitHub\\academy_JP\\docs\\build\\extrusionprorun.md to C:\\Users\\James\\OneDrive\\ドキュメント\\GitHub\\academy_JP\\docs_jp\\build\\extrusionprorun.md\n",
      "Copied: C:\\Users\\James\\OneDrive\\ドキュメント\\GitHub\\academy_JP\\docs\\build\\injection.md to C:\\Users\\James\\OneDrive\\ドキュメント\\GitHub\\academy_JP\\docs_jp\\build\\injection.md\n",
      "Copied: C:\\Users\\James\\OneDrive\\ドキュメント\\GitHub\\academy_JP\\docs\\build\\sheetpress.md to C:\\Users\\James\\OneDrive\\ドキュメント\\GitHub\\academy_JP\\docs_jp\\build\\sheetpress.md\n",
      "Copied: C:\\Users\\James\\OneDrive\\ドキュメント\\GitHub\\academy_JP\\docs\\build\\sheetpressbuild.md to C:\\Users\\James\\OneDrive\\ドキュメント\\GitHub\\academy_JP\\docs_jp\\build\\sheetpressbuild.md\n",
      "Copied: C:\\Users\\James\\OneDrive\\ドキュメント\\GitHub\\academy_JP\\docs\\build\\sheetpressrun.md to C:\\Users\\James\\OneDrive\\ドキュメント\\GitHub\\academy_JP\\docs_jp\\build\\sheetpressrun.md\n",
      "Copied: C:\\Users\\James\\OneDrive\\ドキュメント\\GitHub\\academy_JP\\docs\\build\\shredder.md to C:\\Users\\James\\OneDrive\\ドキュメント\\GitHub\\academy_JP\\docs_jp\\build\\shredder.md\n",
      "Copied: C:\\Users\\James\\OneDrive\\ドキュメント\\GitHub\\academy_JP\\docs\\build\\shredderpro.md to C:\\Users\\James\\OneDrive\\ドキュメント\\GitHub\\academy_JP\\docs_jp\\build\\shredderpro.md\n",
      "Copied: C:\\Users\\James\\OneDrive\\ドキュメント\\GitHub\\academy_JP\\docs\\build\\shredderprobuild.md to C:\\Users\\James\\OneDrive\\ドキュメント\\GitHub\\academy_JP\\docs_jp\\build\\shredderprobuild.md\n",
      "Copied: C:\\Users\\James\\OneDrive\\ドキュメント\\GitHub\\academy_JP\\docs\\build\\shredderprorun.md to C:\\Users\\James\\OneDrive\\ドキュメント\\GitHub\\academy_JP\\docs_jp\\build\\shredderprorun.md\n",
      "Copied: C:\\Users\\James\\OneDrive\\ドキュメント\\GitHub\\academy_JP\\docs\\business\\Account_Setup.md to C:\\Users\\James\\OneDrive\\ドキュメント\\GitHub\\academy_JP\\docs_jp\\business\\Account_Setup.md\n",
      "Copied: C:\\Users\\James\\OneDrive\\ドキュメント\\GitHub\\academy_JP\\docs\\business\\actionplan.md to C:\\Users\\James\\OneDrive\\ドキュメント\\GitHub\\academy_JP\\docs_jp\\business\\actionplan.md\n",
      "Copied: C:\\Users\\James\\OneDrive\\ドキュメント\\GitHub\\academy_JP\\docs\\business\\Bazar.md to C:\\Users\\James\\OneDrive\\ドキュメント\\GitHub\\academy_JP\\docs_jp\\business\\Bazar.md\n",
      "Copied: C:\\Users\\James\\OneDrive\\ドキュメント\\GitHub\\academy_JP\\docs\\business\\businessplan.md to C:\\Users\\James\\OneDrive\\ドキュメント\\GitHub\\academy_JP\\docs_jp\\business\\businessplan.md\n",
      "Copied: C:\\Users\\James\\OneDrive\\ドキュメント\\GitHub\\academy_JP\\docs\\business\\get_featured.md to C:\\Users\\James\\OneDrive\\ドキュメント\\GitHub\\academy_JP\\docs_jp\\business\\get_featured.md\n",
      "Copied: C:\\Users\\James\\OneDrive\\ドキュメント\\GitHub\\academy_JP\\docs\\business\\listing_guidelines.md to C:\\Users\\James\\OneDrive\\ドキュメント\\GitHub\\academy_JP\\docs_jp\\business\\listing_guidelines.md\n",
      "Copied: C:\\Users\\James\\OneDrive\\ドキュメント\\GitHub\\academy_JP\\docs\\business\\Setup_Payment.md to C:\\Users\\James\\OneDrive\\ドキュメント\\GitHub\\academy_JP\\docs_jp\\business\\Setup_Payment.md\n",
      "Copied: C:\\Users\\James\\OneDrive\\ドキュメント\\GitHub\\academy_JP\\docs\\business\\set_up_shipping.md to C:\\Users\\James\\OneDrive\\ドキュメント\\GitHub\\academy_JP\\docs_jp\\business\\set_up_shipping.md\n",
      "Copied: C:\\Users\\James\\OneDrive\\ドキュメント\\GitHub\\academy_JP\\docs\\business\\workspacecalculator.md to C:\\Users\\James\\OneDrive\\ドキュメント\\GitHub\\academy_JP\\docs_jp\\business\\workspacecalculator.md\n",
      "Copied: C:\\Users\\James\\OneDrive\\ドキュメント\\GitHub\\academy_JP\\docs\\create\\design.md to C:\\Users\\James\\OneDrive\\ドキュメント\\GitHub\\academy_JP\\docs_jp\\create\\design.md\n",
      "Copied: C:\\Users\\James\\OneDrive\\ドキュメント\\GitHub\\academy_JP\\docs\\create\\finishing.md to C:\\Users\\James\\OneDrive\\ドキュメント\\GitHub\\academy_JP\\docs_jp\\create\\finishing.md\n",
      "Copied: C:\\Users\\James\\OneDrive\\ドキュメント\\GitHub\\academy_JP\\docs\\create\\how-to.md to C:\\Users\\James\\OneDrive\\ドキュメント\\GitHub\\academy_JP\\docs_jp\\create\\how-to.md\n",
      "Copied: C:\\Users\\James\\OneDrive\\ドキュメント\\GitHub\\academy_JP\\docs\\create\\injection-moulds.md to C:\\Users\\James\\OneDrive\\ドキュメント\\GitHub\\academy_JP\\docs_jp\\create\\injection-moulds.md\n",
      "Copied: C:\\Users\\James\\OneDrive\\ドキュメント\\GitHub\\academy_JP\\docs\\guides\\guidelines-machines.md to C:\\Users\\James\\OneDrive\\ドキュメント\\GitHub\\academy_JP\\docs_jp\\guides\\guidelines-machines.md\n",
      "Copied: C:\\Users\\James\\OneDrive\\ドキュメント\\GitHub\\academy_JP\\docs\\guides\\guidelines-moulds.md to C:\\Users\\James\\OneDrive\\ドキュメント\\GitHub\\academy_JP\\docs_jp\\guides\\guidelines-moulds.md\n",
      "Copied: C:\\Users\\James\\OneDrive\\ドキュメント\\GitHub\\academy_JP\\docs\\guides\\guidelines-questions.md to C:\\Users\\James\\OneDrive\\ドキュメント\\GitHub\\academy_JP\\docs_jp\\guides\\guidelines-questions.md\n",
      "Copied: C:\\Users\\James\\OneDrive\\ドキュメント\\GitHub\\academy_JP\\docs\\guides\\machine-inventory.md to C:\\Users\\James\\OneDrive\\ドキュメント\\GitHub\\academy_JP\\docs_jp\\guides\\machine-inventory.md\n",
      "Copied: C:\\Users\\James\\OneDrive\\ドキュメント\\GitHub\\academy_JP\\docs\\guides\\platform.md to C:\\Users\\James\\OneDrive\\ドキュメント\\GitHub\\academy_JP\\docs_jp\\guides\\platform.md\n",
      "Copied: C:\\Users\\James\\OneDrive\\ドキュメント\\GitHub\\academy_JP\\docs\\guides\\research.md to C:\\Users\\James\\OneDrive\\ドキュメント\\GitHub\\academy_JP\\docs_jp\\guides\\research.md\n",
      "Copied: C:\\Users\\James\\OneDrive\\ドキュメント\\GitHub\\academy_JP\\docs\\guides\\stars.md to C:\\Users\\James\\OneDrive\\ドキュメント\\GitHub\\academy_JP\\docs_jp\\guides\\stars.md\n",
      "Copied: C:\\Users\\James\\OneDrive\\ドキュメント\\GitHub\\academy_JP\\docs\\plastic\\basics.md to C:\\Users\\James\\OneDrive\\ドキュメント\\GitHub\\academy_JP\\docs_jp\\plastic\\basics.md\n",
      "Copied: C:\\Users\\James\\OneDrive\\ドキュメント\\GitHub\\academy_JP\\docs\\plastic\\geeky.md to C:\\Users\\James\\OneDrive\\ドキュメント\\GitHub\\academy_JP\\docs_jp\\plastic\\geeky.md\n",
      "Copied: C:\\Users\\James\\OneDrive\\ドキュメント\\GitHub\\academy_JP\\docs\\plastic\\safety.md to C:\\Users\\James\\OneDrive\\ドキュメント\\GitHub\\academy_JP\\docs_jp\\plastic\\safety.md\n",
      "Copied: C:\\Users\\James\\OneDrive\\ドキュメント\\GitHub\\academy_JP\\docs\\research\\beyondplastic.md to C:\\Users\\James\\OneDrive\\ドキュメント\\GitHub\\academy_JP\\docs_jp\\research\\beyondplastic.md\n",
      "Copied: C:\\Users\\James\\OneDrive\\ドキュメント\\GitHub\\academy_JP\\docs\\research\\robotics.md to C:\\Users\\James\\OneDrive\\ドキュメント\\GitHub\\academy_JP\\docs_jp\\research\\robotics.md\n",
      "Copied: C:\\Users\\James\\OneDrive\\ドキュメント\\GitHub\\academy_JP\\docs\\spaces\\collectionpoint.md to C:\\Users\\James\\OneDrive\\ドキュメント\\GitHub\\academy_JP\\docs_jp\\spaces\\collectionpoint.md\n",
      "Copied: C:\\Users\\James\\OneDrive\\ドキュメント\\GitHub\\academy_JP\\docs\\spaces\\extrusion.md to C:\\Users\\James\\OneDrive\\ドキュメント\\GitHub\\academy_JP\\docs_jp\\spaces\\extrusion.md\n",
      "Copied: C:\\Users\\James\\OneDrive\\ドキュメント\\GitHub\\academy_JP\\docs\\spaces\\injection.md to C:\\Users\\James\\OneDrive\\ドキュメント\\GitHub\\academy_JP\\docs_jp\\spaces\\injection.md\n",
      "Copied: C:\\Users\\James\\OneDrive\\ドキュメント\\GitHub\\academy_JP\\docs\\spaces\\mix.md to C:\\Users\\James\\OneDrive\\ドキュメント\\GitHub\\academy_JP\\docs_jp\\spaces\\mix.md\n",
      "Copied: C:\\Users\\James\\OneDrive\\ドキュメント\\GitHub\\academy_JP\\docs\\spaces\\sheetpress.md to C:\\Users\\James\\OneDrive\\ドキュメント\\GitHub\\academy_JP\\docs_jp\\spaces\\sheetpress.md\n",
      "Copied: C:\\Users\\James\\OneDrive\\ドキュメント\\GitHub\\academy_JP\\docs\\spaces\\shredder.md to C:\\Users\\James\\OneDrive\\ドキュメント\\GitHub\\academy_JP\\docs_jp\\spaces\\shredder.md\n",
      "Copied: C:\\Users\\James\\OneDrive\\ドキュメント\\GitHub\\academy_JP\\docs\\support\\chat.md to C:\\Users\\James\\OneDrive\\ドキュメント\\GitHub\\academy_JP\\docs_jp\\support\\chat.md\n",
      "Copied: C:\\Users\\James\\OneDrive\\ドキュメント\\GitHub\\academy_JP\\docs\\support\\faq.md to C:\\Users\\James\\OneDrive\\ドキュメント\\GitHub\\academy_JP\\docs_jp\\support\\faq.md\n",
      "Copied: C:\\Users\\James\\OneDrive\\ドキュメント\\GitHub\\academy_JP\\docs\\universe\\branding.md to C:\\Users\\James\\OneDrive\\ドキュメント\\GitHub\\academy_JP\\docs_jp\\universe\\branding.md\n",
      "Copied: C:\\Users\\James\\OneDrive\\ドキュメント\\GitHub\\academy_JP\\docs\\universe\\make-your-logo.md to C:\\Users\\James\\OneDrive\\ドキュメント\\GitHub\\academy_JP\\docs_jp\\universe\\make-your-logo.md\n",
      "Copied: C:\\Users\\James\\OneDrive\\ドキュメント\\GitHub\\academy_JP\\docs\\universe\\share-back.md to C:\\Users\\James\\OneDrive\\ドキュメント\\GitHub\\academy_JP\\docs_jp\\universe\\share-back.md\n",
      "Copied: C:\\Users\\James\\OneDrive\\ドキュメント\\GitHub\\academy_JP\\docs\\universe\\universe.md to C:\\Users\\James\\OneDrive\\ドキュメント\\GitHub\\academy_JP\\docs_jp\\universe\\universe.md\n",
      "total md files 61\n"
     ]
    }
   ],
   "source": [
    "#Code to create copy of new dir \n",
    "import os\n",
    "import shutil\n",
    "\n",
    "def copy_all_files(src_directory, dest_directory):\n",
    "    # Ensure the destination directory exists\n",
    "    if not os.path.exists(dest_directory):\n",
    "        os.makedirs(dest_directory)\n",
    "    md_files=[]\n",
    "    # Walk through all directories and files in the source directory\n",
    "    for root, dirs, files in os.walk(src_directory):\n",
    "        # Determine the path to the destination directory\n",
    "        dest_path = root.replace(src_directory, dest_directory, 1)\n",
    "        \n",
    "        # Ensure each directory exists in the destination path\n",
    "        if not os.path.exists(dest_path):\n",
    "            os.makedirs(dest_path)\n",
    "        \n",
    "        # Copy each file\n",
    "        for file in files:\n",
    "            if \".md\" in src_file:\n",
    "                md_files.append(src_file)\n",
    "                src_file = os.path.join(root, file)\n",
    "                dest_file = os.path.join(dest_path, file)\n",
    "                \n",
    "\n",
    "            else:    \n",
    "                src_file = os.path.join(root, file)\n",
    "                dest_file = os.path.join(dest_path, file)\n",
    "                shutil.copy(src_file, dest_file)\n",
    "           \n",
    "                print(f\"Copied: {src_file} to {dest_file}\")\n",
    "                \n",
    "    print(\"total md files\",len(md_files))\n",
    "\n",
    "# Specify the source and destination directories\n",
    "source_directory = r'C:\\Users\\James\\OneDrive\\ドキュメント\\GitHub\\academy_JP\\docs'\n",
    "destination_directory = r'C:\\Users\\James\\OneDrive\\ドキュメント\\GitHub\\academy_JP\\docs_jp'\n",
    "# Call the function to copy all files\n",
    "copy_all_files(source_directory, destination_directory)"
   ]
  },
  {
   "cell_type": "code",
   "execution_count": null,
   "metadata": {},
   "outputs": [],
   "source": []
  }
 ],
 "metadata": {
  "kernelspec": {
   "display_name": ".venv",
   "language": "python",
   "name": "python3"
  },
  "language_info": {
   "codemirror_mode": {
    "name": "ipython",
    "version": 3
   },
   "file_extension": ".py",
   "mimetype": "text/x-python",
   "name": "python",
   "nbconvert_exporter": "python",
   "pygments_lexer": "ipython3",
   "version": "3.9.13"
  }
 },
 "nbformat": 4,
 "nbformat_minor": 2
}
